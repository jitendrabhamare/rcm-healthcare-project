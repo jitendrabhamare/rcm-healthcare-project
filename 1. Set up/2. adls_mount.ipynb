{
 "cells": [
  {
   "cell_type": "code",
   "execution_count": 0,
   "metadata": {
    "application/vnd.databricks.v1+cell": {
     "cellMetadata": {
      "byteLimit": 2048000,
      "rowLimit": 10000
     },
     "inputWidgets": {},
     "nuid": "8fcfec55-d45b-4fec-bb46-bec2e6736497",
     "showTitle": false,
     "tableResultSettingsMap": {},
     "title": ""
    }
   },
   "outputs": [],
   "source": [
    "# Databricks notebook source\n",
    "storageAccountName = \"rcmadlsdevnew\"\n",
    "storageAccountAccessKey = dbutils.secrets.get('rcm-hc-kv-scope', 'access-key-rcmadlsdevnew')\n",
    "mountPoints=[\"gold\",\"silver\",\"bronze\",\"landing\",\"configs\"]\n",
    "for mountPoint in mountPoints:\n",
    "    if not any(mount.mountPoint == f\"/mnt/{mountPoint}\" for mount in dbutils.fs.mounts()):\n",
    "        try:\n",
    "            dbutils.fs.mount(\n",
    "            source = \"wasbs://{}@{}.blob.core.windows.net\".format(mountPoint, storageAccountName),\n",
    "            mount_point = f\"/mnt/{mountPoint}\",\n",
    "            extra_configs = {'fs.azure.account.key.' + storageAccountName + '.blob.core.windows.net': storageAccountAccessKey}\n",
    "            )\n",
    "            print(f\"{mountPoint} mount succeeded!\")\n",
    "        except Exception as e:\n",
    "            print(\"mount exception\", e)\n",
    "\n",
    "# COMMAND ----------\n",
    "\n",
    "dbutils.fs.mounts()"
   ]
  }
 ],
 "metadata": {
  "application/vnd.databricks.v1+notebook": {
   "computePreferences": null,
   "dashboards": [],
   "environmentMetadata": {
    "base_environment": "",
    "environment_version": "2"
   },
   "language": "python",
   "notebookMetadata": {
    "pythonIndentUnit": 4
   },
   "notebookName": "2. adls_mount",
   "widgets": {}
  },
  "language_info": {
   "name": "python"
  }
 },
 "nbformat": 4,
 "nbformat_minor": 0
}
